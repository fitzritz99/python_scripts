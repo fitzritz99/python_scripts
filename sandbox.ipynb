{
 "cells": [
  {
   "cell_type": "code",
   "execution_count": 1,
   "metadata": {},
   "outputs": [],
   "source": [
    "import os\n",
    "import pandas as pd\n",
    "import numpy as np\n",
    "import glob as glob\n",
    "import fnmatch as fnmatch\n",
    "import matplotlib.pyplot as plt\n",
    "import seaborn as sns\n",
    "\n",
    "plt.style.use('seaborn-colorblind')\n",
    "%matplotlib inline \n",
    "#%matplotlib notebook "
   ]
  },
  {
   "cell_type": "markdown",
   "metadata": {},
   "source": [
    "#### Functions & Calculations"
   ]
  },
  {
   "cell_type": "code",
   "execution_count": 2,
   "metadata": {},
   "outputs": [],
   "source": [
    "grades = [100, 100, 90, 40, 80, 100, 85, 70, 90, 65, 90, 85, 50.5]"
   ]
  },
  {
   "cell_type": "code",
   "execution_count": 6,
   "metadata": {},
   "outputs": [
    {
     "name": "stdout",
     "output_type": "stream",
     "text": [
      "1045.5\n",
      "80.42\n"
     ]
    }
   ],
   "source": [
    "def grades_sum(scores):\n",
    "  total = 0\n",
    "  for score in scores: \n",
    "    total += score\n",
    "  return total\n",
    "\n",
    "print (grades_sum(grades))\n",
    "    \n",
    "def grades_average(grades_input):\n",
    "  sum_of_grades = grades_sum(grades_input)\n",
    "  average = round(sum_of_grades / float(len(grades_input)),2)\n",
    "  return average\n",
    "\n",
    "print (grades_average(grades))"
   ]
  },
  {
   "cell_type": "code",
   "execution_count": 35,
   "metadata": {},
   "outputs": [
    {
     "name": "stdout",
     "output_type": "stream",
     "text": [
      "334.07101538461546\n"
     ]
    }
   ],
   "source": [
    "def grades_variance(scores):\n",
    "  average = grades_average(scores)\n",
    "  variance = 0\n",
    "  for score in scores:\n",
    "    variance += (average - score) ** 2\n",
    "  return variance/float(len(scores))\n",
    "\n",
    "print (grades_variance(grades))"
   ]
  },
  {
   "cell_type": "markdown",
   "metadata": {},
   "source": [
    "#### DataFrames & Plotting"
   ]
  },
  {
   "cell_type": "code",
   "execution_count": 8,
   "metadata": {},
   "outputs": [
    {
     "data": {
      "text/html": [
       "<div>\n",
       "<style>\n",
       "    .dataframe thead tr:only-child th {\n",
       "        text-align: right;\n",
       "    }\n",
       "\n",
       "    .dataframe thead th {\n",
       "        text-align: left;\n",
       "    }\n",
       "\n",
       "    .dataframe tbody tr th {\n",
       "        vertical-align: top;\n",
       "    }\n",
       "</style>\n",
       "<table border=\"1\" class=\"dataframe\">\n",
       "  <thead>\n",
       "    <tr style=\"text-align: right;\">\n",
       "      <th></th>\n",
       "      <th>ID</th>\n",
       "      <th>Latitude</th>\n",
       "      <th>Longitude</th>\n",
       "    </tr>\n",
       "  </thead>\n",
       "  <tbody>\n",
       "    <tr>\n",
       "      <th>0</th>\n",
       "      <td>1</td>\n",
       "      <td>45</td>\n",
       "      <td>-120</td>\n",
       "    </tr>\n",
       "    <tr>\n",
       "      <th>1</th>\n",
       "      <td>2</td>\n",
       "      <td>46</td>\n",
       "      <td>-121</td>\n",
       "    </tr>\n",
       "    <tr>\n",
       "      <th>2</th>\n",
       "      <td>3</td>\n",
       "      <td>47</td>\n",
       "      <td>-122</td>\n",
       "    </tr>\n",
       "    <tr>\n",
       "      <th>3</th>\n",
       "      <td>4</td>\n",
       "      <td>48</td>\n",
       "      <td>-123</td>\n",
       "    </tr>\n",
       "  </tbody>\n",
       "</table>\n",
       "</div>"
      ],
      "text/plain": [
       "   ID  Latitude  Longitude\n",
       "0   1        45       -120\n",
       "1   2        46       -121\n",
       "2   3        47       -122\n",
       "3   4        48       -123"
      ]
     },
     "execution_count": 8,
     "metadata": {},
     "output_type": "execute_result"
    }
   ],
   "source": [
    "data1 = {'ID': [1,2,3,4],\n",
    "        'Latitude' : [45, 46, 47, 48],\n",
    "        'Longitude' : [-120, -121, -122, -123]}\n",
    "data_df1 = pd.DataFrame(data1)\n",
    "data_df1"
   ]
  },
  {
   "cell_type": "code",
   "execution_count": 9,
   "metadata": {},
   "outputs": [
    {
     "data": {
      "text/html": [
       "<div>\n",
       "<style>\n",
       "    .dataframe thead tr:only-child th {\n",
       "        text-align: right;\n",
       "    }\n",
       "\n",
       "    .dataframe thead th {\n",
       "        text-align: left;\n",
       "    }\n",
       "\n",
       "    .dataframe tbody tr th {\n",
       "        vertical-align: top;\n",
       "    }\n",
       "</style>\n",
       "<table border=\"1\" class=\"dataframe\">\n",
       "  <thead>\n",
       "    <tr style=\"text-align: right;\">\n",
       "      <th></th>\n",
       "      <th>ID</th>\n",
       "      <th>Latitude</th>\n",
       "      <th>Longitude</th>\n",
       "    </tr>\n",
       "  </thead>\n",
       "  <tbody>\n",
       "    <tr>\n",
       "      <th>0</th>\n",
       "      <td>1</td>\n",
       "      <td>45</td>\n",
       "      <td>-120</td>\n",
       "    </tr>\n",
       "    <tr>\n",
       "      <th>1</th>\n",
       "      <td>2</td>\n",
       "      <td>50</td>\n",
       "      <td>-125</td>\n",
       "    </tr>\n",
       "    <tr>\n",
       "      <th>2</th>\n",
       "      <td>3</td>\n",
       "      <td>55</td>\n",
       "      <td>-130</td>\n",
       "    </tr>\n",
       "    <tr>\n",
       "      <th>3</th>\n",
       "      <td>4</td>\n",
       "      <td>60</td>\n",
       "      <td>-135</td>\n",
       "    </tr>\n",
       "  </tbody>\n",
       "</table>\n",
       "</div>"
      ],
      "text/plain": [
       "   ID  Latitude  Longitude\n",
       "0   1        45       -120\n",
       "1   2        50       -125\n",
       "2   3        55       -130\n",
       "3   4        60       -135"
      ]
     },
     "execution_count": 9,
     "metadata": {},
     "output_type": "execute_result"
    }
   ],
   "source": [
    "data2 = {'ID': [1,2,3,4],\n",
    "        'Latitude' : [45, 50, 55, 60],\n",
    "        'Longitude' : [-120, -125, -130, -135]}\n",
    "data_df2 = pd.DataFrame(data2)\n",
    "data_df2"
   ]
  },
  {
   "cell_type": "code",
   "execution_count": 10,
   "metadata": {},
   "outputs": [
    {
     "data": {
      "text/html": [
       "<div>\n",
       "<style>\n",
       "    .dataframe thead tr:only-child th {\n",
       "        text-align: right;\n",
       "    }\n",
       "\n",
       "    .dataframe thead th {\n",
       "        text-align: left;\n",
       "    }\n",
       "\n",
       "    .dataframe tbody tr th {\n",
       "        vertical-align: top;\n",
       "    }\n",
       "</style>\n",
       "<table border=\"1\" class=\"dataframe\">\n",
       "  <thead>\n",
       "    <tr style=\"text-align: right;\">\n",
       "      <th></th>\n",
       "      <th>ID</th>\n",
       "      <th>Latitude</th>\n",
       "      <th>Longitude</th>\n",
       "    </tr>\n",
       "  </thead>\n",
       "  <tbody>\n",
       "    <tr>\n",
       "      <th>1</th>\n",
       "      <td>2</td>\n",
       "      <td>46</td>\n",
       "      <td>-121</td>\n",
       "    </tr>\n",
       "    <tr>\n",
       "      <th>2</th>\n",
       "      <td>3</td>\n",
       "      <td>47</td>\n",
       "      <td>-122</td>\n",
       "    </tr>\n",
       "    <tr>\n",
       "      <th>3</th>\n",
       "      <td>4</td>\n",
       "      <td>48</td>\n",
       "      <td>-123</td>\n",
       "    </tr>\n",
       "  </tbody>\n",
       "</table>\n",
       "</div>"
      ],
      "text/plain": [
       "   ID  Latitude  Longitude\n",
       "1   2        46       -121\n",
       "2   3        47       -122\n",
       "3   4        48       -123"
      ]
     },
     "execution_count": 10,
     "metadata": {},
     "output_type": "execute_result"
    }
   ],
   "source": [
    "new_df = data_df1[(data_df1.Longitude != data_df2.Longitude) & (data_df1.ID == data_df2.ID)]\n",
    "new_df"
   ]
  },
  {
   "cell_type": "code",
   "execution_count": 11,
   "metadata": {},
   "outputs": [
    {
     "data": {
      "text/plain": [
       "<matplotlib.collections.PathCollection at 0x78a4810>"
      ]
     },
     "execution_count": 11,
     "metadata": {},
     "output_type": "execute_result"
    },
    {
     "data": {
      "image/png": "[encoded data removed]",
      "text/plain": [
       "<matplotlib.figure.Figure at 0xac89110>"
      ]
     },
     "metadata": {},
     "output_type": "display_data"
    }
   ],
   "source": [
    "plt.scatter(new_df['Latitude'],new_df['Longitude'])\n"
   ]
  },
  {
   "cell_type": "code",
   "execution_count": 38,
   "metadata": {},
   "outputs": [
    {
     "name": "stdout",
     "output_type": "stream",
     "text": [
      "  Country  VehicleCount\n",
      "0     CAN             1\n",
      "1     MEX             1\n",
      "2     USA             2\n",
      "  Country  TotalCount\n",
      "0     CAN           1\n",
      "1     MEX           1\n",
      "2     USA           3\n"
     ]
    },
    {
     "name": "stderr",
     "output_type": "stream",
     "text": [
      "c:\\users\\fitzr\\appdata\\local\\enthought\\canopy32\\edm\\envs\\user\\lib\\site-packages\\ipykernel_launcher.py:8: FutureWarning: using a dict on a Series for aggregation\n",
      "is deprecated and will be removed in a future version\n",
      "  \n",
      "c:\\users\\fitzr\\appdata\\local\\enthought\\canopy32\\edm\\envs\\user\\lib\\site-packages\\ipykernel_launcher.py:12: FutureWarning: using a dict on a Series for aggregation\n",
      "is deprecated and will be removed in a future version\n",
      "  if sys.path[0] == '':\n"
     ]
    },
    {
     "data": {
      "text/html": [
       "<div>\n",
       "<style>\n",
       "    .dataframe thead tr:only-child th {\n",
       "        text-align: right;\n",
       "    }\n",
       "\n",
       "    .dataframe thead th {\n",
       "        text-align: left;\n",
       "    }\n",
       "\n",
       "    .dataframe tbody tr th {\n",
       "        vertical-align: top;\n",
       "    }\n",
       "</style>\n",
       "<table border=\"1\" class=\"dataframe\">\n",
       "  <thead>\n",
       "    <tr style=\"text-align: right;\">\n",
       "      <th></th>\n",
       "      <th>Country</th>\n",
       "      <th>TotalCount</th>\n",
       "      <th>VehicleCount</th>\n",
       "    </tr>\n",
       "  </thead>\n",
       "  <tbody>\n",
       "    <tr>\n",
       "      <th>0</th>\n",
       "      <td>CAN</td>\n",
       "      <td>1</td>\n",
       "      <td>1</td>\n",
       "    </tr>\n",
       "    <tr>\n",
       "      <th>1</th>\n",
       "      <td>MEX</td>\n",
       "      <td>1</td>\n",
       "      <td>1</td>\n",
       "    </tr>\n",
       "    <tr>\n",
       "      <th>2</th>\n",
       "      <td>USA</td>\n",
       "      <td>3</td>\n",
       "      <td>2</td>\n",
       "    </tr>\n",
       "  </tbody>\n",
       "</table>\n",
       "</div>"
      ],
      "text/plain": [
       "  Country  TotalCount  VehicleCount\n",
       "0     CAN           1             1\n",
       "1     MEX           1             1\n",
       "2     USA           3             2"
      ]
     },
     "execution_count": 38,
     "metadata": {},
     "output_type": "execute_result"
    }
   ],
   "source": [
    "data = {'Country' : ['USA', 'USA', 'CAN', 'MEX', 'USA'],\n",
    "        'ID' : [1, 2, 3, 4, 5],\n",
    "       'VID': [10, 16, 15, 16, 16],\n",
    "       'VTYPE': [1,3,1,2,3]}\n",
    "data_df = pd.DataFrame(data)\n",
    "#data_df\n",
    "\n",
    "count_unique = data_df.groupby(['Country','VID']).size().groupby(level=0).agg({'VehicleCount':'size'}).reset_index()\n",
    "print (count_unique)\n",
    "#print (count_unique.info())\n",
    "#data_df.groupby(['Country','Value2'])['Value2'].count()\n",
    "count_by_group = data_df.groupby('Country')['Country'].agg({'TotalCount':'count'}).reset_index()\n",
    "print (count_by_group)\n",
    "\n",
    "count_by_group2 = count_by_group.merge(count_unique,on=['Country'])\n",
    "count_by_group2"
   ]
  },
  {
   "cell_type": "code",
   "execution_count": 13,
   "metadata": {},
   "outputs": [
    {
     "data": {
      "text/html": [
       "<div>\n",
       "<style>\n",
       "    .dataframe thead tr:only-child th {\n",
       "        text-align: right;\n",
       "    }\n",
       "\n",
       "    .dataframe thead th {\n",
       "        text-align: left;\n",
       "    }\n",
       "\n",
       "    .dataframe tbody tr th {\n",
       "        vertical-align: top;\n",
       "    }\n",
       "</style>\n",
       "<table border=\"1\" class=\"dataframe\">\n",
       "  <thead>\n",
       "    <tr style=\"text-align: right;\">\n",
       "      <th></th>\n",
       "      <th>Country</th>\n",
       "      <th>ID</th>\n",
       "      <th>VID</th>\n",
       "      <th>VTYPE</th>\n",
       "      <th>VehicleType</th>\n",
       "    </tr>\n",
       "  </thead>\n",
       "  <tbody>\n",
       "    <tr>\n",
       "      <th>0</th>\n",
       "      <td>USA</td>\n",
       "      <td>1</td>\n",
       "      <td>10</td>\n",
       "      <td>1</td>\n",
       "      <td>passenger vehicle</td>\n",
       "    </tr>\n",
       "    <tr>\n",
       "      <th>1</th>\n",
       "      <td>USA</td>\n",
       "      <td>2</td>\n",
       "      <td>16</td>\n",
       "      <td>3</td>\n",
       "      <td>heavy truck</td>\n",
       "    </tr>\n",
       "    <tr>\n",
       "      <th>2</th>\n",
       "      <td>CAN</td>\n",
       "      <td>3</td>\n",
       "      <td>15</td>\n",
       "      <td>1</td>\n",
       "      <td>passenger vehicle</td>\n",
       "    </tr>\n",
       "    <tr>\n",
       "      <th>3</th>\n",
       "      <td>MEX</td>\n",
       "      <td>4</td>\n",
       "      <td>16</td>\n",
       "      <td>2</td>\n",
       "      <td>light truck</td>\n",
       "    </tr>\n",
       "    <tr>\n",
       "      <th>4</th>\n",
       "      <td>USA</td>\n",
       "      <td>5</td>\n",
       "      <td>16</td>\n",
       "      <td>3</td>\n",
       "      <td>heavy truck</td>\n",
       "    </tr>\n",
       "  </tbody>\n",
       "</table>\n",
       "</div>"
      ],
      "text/plain": [
       "  Country  ID  VID  VTYPE        VehicleType\n",
       "0     USA   1   10      1  passenger vehicle\n",
       "1     USA   2   16      3        heavy truck\n",
       "2     CAN   3   15      1  passenger vehicle\n",
       "3     MEX   4   16      2        light truck\n",
       "4     USA   5   16      3        heavy truck"
      ]
     },
     "execution_count": 13,
     "metadata": {},
     "output_type": "execute_result"
    }
   ],
   "source": [
    "vehicle_type = {1:'passenger vehicle',2:'light truck',3:'heavy truck',4:'mobile device',5:'other'}\n",
    "\n",
    "data_df['VehicleType'] = data_df.VTYPE.apply(lambda x: vehicle_type[x])\n",
    "data_df"
   ]
  },
  {
   "cell_type": "code",
   "execution_count": 14,
   "metadata": {},
   "outputs": [
    {
     "data": {
      "image/png": "[encoded data removed]",
      "text/plain": [
       "<matplotlib.figure.Figure at 0x119d590>"
      ]
     },
     "metadata": {},
     "output_type": "display_data"
    }
   ],
   "source": [
    "pd.plotting.scatter_matrix(data_df);"
   ]
  },
  {
   "cell_type": "code",
   "execution_count": 15,
   "metadata": {},
   "outputs": [
    {
     "name": "stderr",
     "output_type": "stream",
     "text": [
      "c:\\users\\fitzr\\appdata\\local\\enthought\\canopy32\\edm\\envs\\user\\lib\\site-packages\\numpy\\core\\_methods.py:82: RuntimeWarning: Degrees of freedom <= 0 for slice\n",
      "  warnings.warn(\"Degrees of freedom <= 0 for slice\", RuntimeWarning)\n",
      "c:\\users\\fitzr\\appdata\\local\\enthought\\canopy32\\edm\\envs\\user\\lib\\site-packages\\numpy\\core\\_methods.py:116: RuntimeWarning: invalid value encountered in double_scalars\n",
      "  ret = ret.dtype.type(ret / rcount)\n",
      "c:\\users\\fitzr\\appdata\\local\\enthought\\canopy32\\edm\\envs\\user\\lib\\site-packages\\statsmodels\\nonparametric\\bandwidths.py:22: RuntimeWarning: invalid value encountered in minimum\n",
      "  return np.minimum(np.std(X, axis=0, ddof=1), IQR)\n",
      "c:\\users\\fitzr\\appdata\\local\\enthought\\canopy32\\edm\\envs\\user\\lib\\site-packages\\statsmodels\\nonparametric\\kde.py:494: RuntimeWarning: invalid value encountered in true_divide\n",
      "  binned = fast_linbin(X,a,b,gridsize)/(delta*nobs)\n",
      "c:\\users\\fitzr\\appdata\\local\\enthought\\canopy32\\edm\\envs\\user\\lib\\site-packages\\statsmodels\\nonparametric\\kdetools.py:34: RuntimeWarning: invalid value encountered in double_scalars\n",
      "  FAC1 = 2*(np.pi*bw/RANGE)**2\n"
     ]
    },
    {
     "data": {
      "image/png": "[encoded data removed]",
      "text/plain": [
       "<matplotlib.figure.Figure at 0x11dbcd0>"
      ]
     },
     "metadata": {},
     "output_type": "display_data"
    }
   ],
   "source": [
    "sns.pairplot(data_df, hue='VehicleType', diag_kind='kde', size=3);"
   ]
  },
  {
   "cell_type": "code",
   "execution_count": 16,
   "metadata": {},
   "outputs": [
    {
     "data": {
      "image/png": "[encoded data removed]",
      "text/plain": [
       "<matplotlib.figure.Figure at 0x697c8b0>"
      ]
     },
     "metadata": {},
     "output_type": "display_data"
    }
   ],
   "source": [
    "plt.figure(figsize=(8,6))\n",
    "plt.subplot(211)\n",
    "sns.swarmplot(x='VehicleType', y='VID', data=data_df);\n",
    "plt.subplot(212)\n",
    "sns.violinplot(x='VehicleType', y='VID', data=data_df);\n",
    "#sns.violinplot?"
   ]
  },
  {
   "cell_type": "code",
   "execution_count": 17,
   "metadata": {},
   "outputs": [
    {
     "data": {
      "image/png": "[encoded data removed]",
      "text/plain": [
       "<matplotlib.figure.Figure at 0xbe5a450>"
      ]
     },
     "metadata": {},
     "output_type": "display_data"
    }
   ],
   "source": [
    "sns.jointplot(data_df['VID'], data_df['VTYPE'], alpha=0.4, kind='kde');"
   ]
  },
  {
   "cell_type": "markdown",
   "metadata": {},
   "source": [
    "#### Slicing / Indexing & Loops"
   ]
  },
  {
   "cell_type": "code",
   "execution_count": 18,
   "metadata": {},
   "outputs": [
    {
     "name": "stdout",
     "output_type": "stream",
     "text": [
      "[[ 2.21614272  0.76323637  1.37812227  2.85140854  2.88410326]\n",
      " [ 1.98026178  2.88732867  4.38341975  1.67299288  0.49691581]\n",
      " [ 2.11369818  1.79685743  3.58779621  0.52874925  2.28909421]\n",
      " [ 1.46122204  1.60279619  1.59932382  1.78804032  2.54565701]\n",
      " [ 2.6258162   2.40755169  0.78299356  2.44060565  2.71689827]]\n"
     ]
    }
   ],
   "source": [
    "#numpy.random.normal(mean, standard deviation, (rows,columns))\n",
    "a = np.random.normal(2,.9,(5,5))\n",
    "print (a)"
   ]
  },
  {
   "cell_type": "code",
   "execution_count": 41,
   "metadata": {},
   "outputs": [
    {
     "data": {
      "text/plain": [
       "array([[ 1.46122204,  1.60279619,  1.59932382,  1.78804032],\n",
       "       [ 2.6258162 ,  2.40755169,  0.78299356,  2.44060565]])"
      ]
     },
     "execution_count": 41,
     "metadata": {},
     "output_type": "execute_result"
    }
   ],
   "source": [
    "b = a[3:,:-1] #rows, columns\n",
    "b"
   ]
  },
  {
   "cell_type": "code",
   "execution_count": 43,
   "metadata": {},
   "outputs": [
    {
     "name": "stdout",
     "output_type": "stream",
     "text": [
      "[2, 5, 9]\n"
     ]
    }
   ],
   "source": [
    "nums = [1,2,3,5,7,9]\n",
    "\n",
    "print (nums[1::2])"
   ]
  },
  {
   "cell_type": "code",
   "execution_count": 21,
   "metadata": {},
   "outputs": [
    {
     "name": "stdout",
     "output_type": "stream",
     "text": [
      "[2]\n"
     ]
    }
   ],
   "source": [
    "def purify(lst):\n",
    "    res = []\n",
    "    for ele in lst:\n",
    "        if ele % 2 == 0:\n",
    "            res.append(ele)\n",
    "    return res\n",
    "print (purify(nums))"
   ]
  },
  {
   "cell_type": "code",
   "execution_count": 30,
   "metadata": {},
   "outputs": [
    {
     "name": "stdout",
     "output_type": "stream",
     "text": [
      "1890\n"
     ]
    }
   ],
   "source": [
    "def mult_num(lst):\n",
    "  total = 1\n",
    "  for i in lst:\n",
    "    total *= i\n",
    "  return total\n",
    "print (mult_num(nums))"
   ]
  },
  {
   "cell_type": "code",
   "execution_count": 45,
   "metadata": {},
   "outputs": [
    {
     "name": "stdout",
     "output_type": "stream",
     "text": [
      "['txt']\n"
     ]
    }
   ],
   "source": [
    "fname = 'testfile.txt.gz'\n",
    "oname = fname.split('.')[1:-1]\n",
    "print (oname)"
   ]
  },
  {
   "cell_type": "code",
   "execution_count": 24,
   "metadata": {},
   "outputs": [
    {
     "name": "stdout",
     "output_type": "stream",
     "text": [
      "['spotify.exe', 'spotify2.exe', 'spotify3.exe', 'spotifyxsetup.exe']\n"
     ]
    }
   ],
   "source": [
    "name = ['spotify.exe','spotify2.exe','spotify3.exe','spotfiy.exe','spotifyxsetup.exe']\n",
    "#globbed_files = glob.glob(\"spotify*\") #creates a list of all csv files\n",
    "\n",
    "matching_files = []\n",
    "\n",
    "for item in name:\n",
    "    if fnmatch.fnmatch(item, 'spotify*.exe') or fnmatch.fnmatch(item, 'spotify*setup.exe'):\n",
    "        matching_files.append(item)\n",
    "        \n",
    "print (matching_files)"
   ]
  },
  {
   "cell_type": "code",
   "execution_count": 25,
   "metadata": {},
   "outputs": [
    {
     "data": {
      "text/plain": [
       "array([-0.23857229,  1.14828274, -1.13701871, ..., -0.5452015 ,\n",
       "        0.01435406,  0.05837137])"
      ]
     },
     "execution_count": 25,
     "metadata": {},
     "output_type": "execute_result"
    }
   ],
   "source": [
    "Y = np.random.normal(loc=0.0, scale=1.0, size=10000)\n",
    "Y"
   ]
  },
  {
   "cell_type": "code",
   "execution_count": 26,
   "metadata": {},
   "outputs": [
    {
     "name": "stdout",
     "output_type": "stream",
     "text": [
      "no\n",
      "no\n",
      "yes\n",
      "no\n",
      "no\n"
     ]
    }
   ],
   "source": [
    "arr_size = 5;\n",
    "arr = [0,2,4,6,8];\n",
    "k = 4;\n",
    "for n in arr:\n",
    "    if (n == k):\n",
    "        print (\"yes\")\n",
    "\n",
    "    else:\n",
    "        print (\"no\")\n"
   ]
  },
  {
   "cell_type": "code",
   "execution_count": 32,
   "metadata": {},
   "outputs": [
    {
     "name": "stdout",
     "output_type": "stream",
     "text": [
      "6\n"
     ]
    }
   ],
   "source": [
    "arr = [1,3,7]\n",
    "\n",
    "def max_num(arr):\n",
    "    for n in arr:\n",
    "        val1 = arr[1] - arr[0]\n",
    "        val2 = arr[2] - arr[1]\n",
    "        val3 = arr[2] - arr[0]\n",
    "    return val1, val2, val3\n",
    "\n",
    "newArr = [val1,val2,val3]\n",
    "highest = max(newArr)\n",
    "\n",
    "#    for i in newArr:\n",
    "#        print (i)\n",
    "#        if (newArr[i] > highest):\n",
    "#            highest = newArr[i]\n",
    "print (highest)"
   ]
  },
  {
   "cell_type": "markdown",
   "metadata": {},
   "source": [
    "#### Plotting & MapBox"
   ]
  },
  {
   "cell_type": "code",
   "execution_count": 28,
   "metadata": {},
   "outputs": [
    {
     "data": {
      "text/html": [
       "<div>\n",
       "<style>\n",
       "    .dataframe thead tr:only-child th {\n",
       "        text-align: right;\n",
       "    }\n",
       "\n",
       "    .dataframe thead th {\n",
       "        text-align: left;\n",
       "    }\n",
       "\n",
       "    .dataframe tbody tr th {\n",
       "        vertical-align: top;\n",
       "    }\n",
       "</style>\n",
       "<table border=\"1\" class=\"dataframe\">\n",
       "  <thead>\n",
       "    <tr style=\"text-align: right;\">\n",
       "      <th></th>\n",
       "      <th>Latitude</th>\n",
       "      <th>Longitude</th>\n",
       "    </tr>\n",
       "  </thead>\n",
       "  <tbody>\n",
       "    <tr>\n",
       "      <th>0</th>\n",
       "      <td>45</td>\n",
       "      <td>-120</td>\n",
       "    </tr>\n",
       "    <tr>\n",
       "      <th>1</th>\n",
       "      <td>46</td>\n",
       "      <td>-121</td>\n",
       "    </tr>\n",
       "    <tr>\n",
       "      <th>2</th>\n",
       "      <td>47</td>\n",
       "      <td>-122</td>\n",
       "    </tr>\n",
       "    <tr>\n",
       "      <th>3</th>\n",
       "      <td>48</td>\n",
       "      <td>-123</td>\n",
       "    </tr>\n",
       "  </tbody>\n",
       "</table>\n",
       "</div>"
      ],
      "text/plain": [
       "   Latitude  Longitude\n",
       "0        45       -120\n",
       "1        46       -121\n",
       "2        47       -122\n",
       "3        48       -123"
      ]
     },
     "execution_count": 28,
     "metadata": {},
     "output_type": "execute_result"
    }
   ],
   "source": [
    "#os.getcwd()\n",
    "#Use the following to create a map in jupyter notebook. An existing dataframe is a prerequisite for using the code.  Run each piece of code in a new cell.  Refer to the following website for more info: https://www.ryanbaumann.com/blog/2016/4/3/embedding-mapbox-plots-in-jupyter-notebooks\n",
    "\n",
    "#create test dataframe if desired\n",
    "\n",
    "\n",
    "data = {'Latitude' : [45, 46, 47, 48],\n",
    "        'Longitude' : [-120, -121, -122, -123]}\n",
    "data_df = pd.DataFrame(data)\n",
    "data_df"
   ]
  },
  {
   "cell_type": "code",
   "execution_count": 3,
   "metadata": {
    "collapsed": true
   },
   "outputs": [],
   "source": [
    "#Converts a dataframe to a geojson Point output\n",
    "def df_to_geojson(data_df, properties, lat='Latitude', lon='Longitude'):\n",
    "    geojson = {'type':'FeatureCollection', 'features':[]}\n",
    "    for _, row in data_df.iterrows():\n",
    "        feature = {'type':'Feature',\n",
    "                   'properties':{},\n",
    "                   'geometry':{'type':'Point',\n",
    "                               'coordinates':[]}}\n",
    "        feature['geometry']['coordinates'] = [row[lon],row[lat]]\n",
    "        for prop in properties:\n",
    "            feature['properties'][prop] = row[prop]\n",
    "        geojson['features'].append(feature)\n",
    "    return geojson"
   ]
  },
  {
   "cell_type": "code",
   "execution_count": 10,
   "metadata": {},
   "outputs": [
    {
     "data": {
      "text/plain": [
       "{'features': [{'geometry': {'coordinates': [-120, 45], 'type': 'Point'},\n",
       "   'properties': {},\n",
       "   'type': 'Feature'},\n",
       "  {'geometry': {'coordinates': [-121, 46], 'type': 'Point'},\n",
       "   'properties': {},\n",
       "   'type': 'Feature'},\n",
       "  {'geometry': {'coordinates': [-122, 47], 'type': 'Point'},\n",
       "   'properties': {},\n",
       "   'type': 'Feature'},\n",
       "  {'geometry': {'coordinates': [-123, 48], 'type': 'Point'},\n",
       "   'properties': {},\n",
       "   'type': 'Feature'}],\n",
       " 'type': 'FeatureCollection'}"
      ]
     },
     "execution_count": 10,
     "metadata": {},
     "output_type": "execute_result"
    }
   ],
   "source": [
    "#\n",
    "\n",
    "cols = []\n",
    "geojson = df_to_geojson(data_df, cols)\n",
    "center = [data_df.Longitude.mean(), data_df.Latitude.mean()]\n",
    "geojson"
   ]
  },
  {
   "cell_type": "code",
   "execution_count": 11,
   "metadata": {},
   "outputs": [
    {
     "data": {
      "application/javascript": [
       "window.vizObj={'type': 'FeatureCollection', 'features': [{'type': 'Feature', 'properties': {}, 'geometry': {'coordinates': [-120, 45], 'type': 'Point'}}, {'type': 'Feature', 'properties': {}, 'geometry': {'coordinates': [-121, 46], 'type': 'Point'}}, {'type': 'Feature', 'properties': {}, 'geometry': {'coordinates': [-122, 47], 'type': 'Point'}}, {'type': 'Feature', 'properties': {}, 'geometry': {'coordinates': [-123, 48], 'type': 'Point'}}]};"
      ],
      "text/plain": [
       "<IPython.core.display.Javascript object>"
      ]
     },
     "execution_count": 11,
     "metadata": {},
     "output_type": "execute_result"
    }
   ],
   "source": [
    "#\n",
    "\n",
    "from IPython.display import Javascript\n",
    "Javascript(\"\"\"window.vizObj={};\"\"\".format(geojson))"
   ]
  },
  {
   "cell_type": "code",
   "execution_count": 12,
   "metadata": {},
   "outputs": [
    {
     "data": {
      "application/javascript": [
       "window.cenObj=[-121.5, 46.5];"
      ],
      "text/plain": [
       "<IPython.core.display.Javascript object>"
      ]
     },
     "execution_count": 12,
     "metadata": {},
     "output_type": "execute_result"
    }
   ],
   "source": [
    "#\n",
    "Javascript(\"\"\"window.cenObj={};\"\"\".format(center))\n"
   ]
  },
  {
   "cell_type": "code",
   "execution_count": 13,
   "metadata": {},
   "outputs": [
    {
     "data": {
      "text/html": [
       "\n",
       "<style> #map {\n",
       "  position: relative;\n",
       "  width: auto;\n",
       "  height: 650px;\n",
       "  overflow:visible;\n",
       "}\n",
       "</style>\n"
      ],
      "text/plain": [
       "<IPython.core.display.HTML object>"
      ]
     },
     "execution_count": 13,
     "metadata": {},
     "output_type": "execute_result"
    }
   ],
   "source": [
    "\n",
    "\n",
    "from IPython.display import HTML\n",
    "HTML(\"\"\"\n",
    "<style> #map {\n",
    "  position: relative;\n",
    "  width: auto;\n",
    "  height: 650px;\n",
    "  overflow:visible;\n",
    "}\n",
    "</style>\n",
    "\"\"\")\n",
    "\n"
   ]
  },
  {
   "cell_type": "code",
   "execution_count": 14,
   "metadata": {},
   "outputs": [
    {
     "data": {
      "application/javascript": [
       "require.config({\n",
       "  paths: {\n",
       "      mapboxgl: 'https://api.tiles.mapbox.com/mapbox-gl-js/v0.21.0/mapbox-gl',\n",
       "      bootstrap: 'https://maxcdn.bootstrapcdn.com/bootstrap/3.3.6/js/bootstrap.min'\n",
       "  }\n",
       "});"
      ],
      "text/plain": [
       "<IPython.core.display.Javascript object>"
      ]
     },
     "metadata": {},
     "output_type": "display_data"
    }
   ],
   "source": [
    "%%javascript\n",
    "require.config({\n",
    "  paths: {\n",
    "      mapboxgl: 'https://api.tiles.mapbox.com/mapbox-gl-js/v0.21.0/mapbox-gl',\n",
    "      bootstrap: 'https://maxcdn.bootstrapcdn.com/bootstrap/3.3.6/js/bootstrap.min'\n",
    "  }\n",
    "});"
   ]
  },
  {
   "cell_type": "code",
   "execution_count": 15,
   "metadata": {
    "scrolled": true
   },
   "outputs": [
    {
     "data": {
      "application/javascript": [
       "IPython.OutputArea.auto_scroll_threshold = 9999;\n",
       "require(['mapboxgl', 'bootstrap'], function(mapboxgl, bootstrap){\n",
       "    mapboxgl.accessToken = 'pk.eyJ1IjoibmZpdHpwYXRyaWNrIiwiYSI6ImNqMmpkZDM3MzAxaHoyd211ZWprejFna2EifQ.eoC9DVtUZTWUGVxy9VlE4w';\n",
       "    var map = new mapboxgl.Map({\n",
       "        container: 'map', // container id\n",
       "        style: 'mapbox://styles/mapbox/light-v9', //stylesheet location\n",
       "        center: window.cenObj, //[-39.14586151999999, -16.505109735999998],// starting position\n",
       "        zoom: 6, // starting zoom\n",
       "        pitch: 1 // pitch in degrees\n",
       "    });\n",
       "\n",
       "\n",
       "    function addSegLayer(mapid) {\n",
       "        // Mapbox GL JS Api - import segment\n",
       "        var segment_src = new mapboxgl.GeoJSONSource({\n",
       "            data: window.vizObj,\n",
       "            maxzoom: 18,\n",
       "            buffer: 1,\n",
       "            tolerance: 1\n",
       "        });\n",
       "        try {\n",
       "            mapid.addSource('points', segment_src);\n",
       "            mapid.addLayer({\n",
       "                id: 'points',\n",
       "                type: 'circle',\n",
       "                source: 'points',\n",
       "                paint: {\n",
       "                    \"circle-radius\": 8,\n",
       "                    \"circle-color\": 'chartreuse',\n",
       "                }\n",
       "            });\n",
       "        } catch (err) {\n",
       "            console.log(err);\n",
       "        }\n",
       "    };\n",
       "\n",
       "    map.once('style.load', function(e) {\n",
       "        addSegLayer(map);\n",
       "        map.addControl(new mapboxgl.Navigation({\n",
       "            position: 'top-left'\n",
       "        }));\n",
       "    });\n",
       "    //map.setPitch(1);\n",
       "\n",
       "});\n",
       "element.append(\"<div id='map'></div>\"); //style=width: 1500px; height: 1500px;"
      ],
      "text/plain": [
       "<IPython.core.display.Javascript object>"
      ]
     },
     "metadata": {},
     "output_type": "display_data"
    }
   ],
   "source": [
    "%%javascript\n",
    "IPython.OutputArea.auto_scroll_threshold = 9999;\n",
    "require(['mapboxgl', 'bootstrap'], function(mapboxgl, bootstrap){\n",
    "    mapboxgl.accessToken = 'pk.eyJ1IjoibmZpdHpwYXRyaWNrIiwiYSI6ImNqMmpkZDM3MzAxaHoyd211ZWprejFna2EifQ.eoC9DVtUZTWUGVxy9VlE4w';\n",
    "    var map = new mapboxgl.Map({\n",
    "        container: 'map', // container id\n",
    "        style: 'mapbox://styles/mapbox/light-v9', //stylesheet location\n",
    "        center: window.cenObj, //[-39.14586151999999, -16.505109735999998],// starting position\n",
    "        zoom: 6, // starting zoom\n",
    "        pitch: 1 // pitch in degrees\n",
    "    });\n",
    "\n",
    "\n",
    "    function addSegLayer(mapid) {\n",
    "        // Mapbox GL JS Api - import segment\n",
    "        var segment_src = new mapboxgl.GeoJSONSource({\n",
    "            data: window.vizObj,\n",
    "            maxzoom: 18,\n",
    "            buffer: 1,\n",
    "            tolerance: 1\n",
    "        });\n",
    "        try {\n",
    "            mapid.addSource('points', segment_src);\n",
    "            mapid.addLayer({\n",
    "                id: 'points',\n",
    "                type: 'circle',\n",
    "                source: 'points',\n",
    "                paint: {\n",
    "                    \"circle-radius\": 8,\n",
    "                    \"circle-color\": 'chartreuse',\n",
    "                }\n",
    "            });\n",
    "        } catch (err) {\n",
    "            console.log(err);\n",
    "        }\n",
    "    };\n",
    "\n",
    "    map.once('style.load', function(e) {\n",
    "        addSegLayer(map);\n",
    "        map.addControl(new mapboxgl.Navigation({\n",
    "            position: 'top-left'\n",
    "        }));\n",
    "    });\n",
    "    //map.setPitch(1);\n",
    "\n",
    "});\n",
    "element.append(\"<div id='map'></div>\"); //style=width: 1500px; height: 1500px;\n"
   ]
  }
 ],
 "metadata": {
  "kernelspec": {
   "display_name": "Python 3",
   "language": "python",
   "name": "python3"
  },
  "language_info": {
   "codemirror_mode": {
    "name": "ipython",
    "version": 3
   },
   "file_extension": ".py",
   "mimetype": "text/x-python",
   "name": "python",
   "nbconvert_exporter": "python",
   "pygments_lexer": "ipython3",
   "version": "3.5.2"
  }
 },
 "nbformat": 4,
 "nbformat_minor": 1
}
